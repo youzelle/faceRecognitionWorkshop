{
 "cells": [
  {
   "cell_type": "code",
   "execution_count": null,
   "metadata": {},
   "outputs": [],
   "source": [
    "import numpy as np\n",
    "import pandas as pd\n",
    "import matplotlib.pyplot as plt\n",
    "import sklearn\n",
    "import pickle\n",
    "import cv2\n",
    "%matplotlib inline"
   ]
  },
  {
   "cell_type": "code",
   "execution_count": null,
   "metadata": {},
   "outputs": [],
   "source": [
    "# load all the models\n",
    "haar = cv2.CascadeClassifier('./model/haarcascade_frontalface_default.xml')\n",
    "# pickle files\n",
    "mean  = pickle.load(open('./model/mean_preprocess.pickle','rb'))\n",
    "model_svm  = pickle.load(open('./model/model_svm.pickle','rb'))\n",
    "model_pca  = pickle.load(open('./model/pca_50.pickle','rb'))\n",
    "\n",
    "print('Model loaded sucessfully')"
   ]
  },
  {
   "cell_type": "code",
   "execution_count": null,
   "metadata": {},
   "outputs": [],
   "source": []
  },
  {
   "cell_type": "code",
   "execution_count": null,
   "metadata": {},
   "outputs": [],
   "source": [
    "gender_pre = ['Male','Female']\n",
    "font = cv2.FONT_HERSHEY_SIMPLEX"
   ]
  },
  {
   "cell_type": "code",
   "execution_count": null,
   "metadata": {},
   "outputs": [],
   "source": [
    "# define a pipeline function\n",
    "\n",
    "    # step-1: function parameters -> img and img color\n",
    "    \n",
    "    # step-2: convert into gray scale\n",
    "    \n",
    "    # step-3: crop the face \n",
    "    \n",
    "    # step-4: normalize data (0-1)\n",
    "        \n",
    "    # step-5: resize images (100,100)\n",
    "      \n",
    "    # step-6: Flattening (1x10000)\n",
    "\n",
    "    # step-7: subptract with mean\n",
    "\n",
    "    # step-8: get eigen image\n",
    "\n",
    "    # step-9: pass to ml model (svm)\n",
    "\n",
    "    # step-10: predict gender\n",
    "     \n",
    "    # step-11:print gender and score\n",
    "    \n",
    "#     return image"
   ]
  },
  {
   "cell_type": "code",
   "execution_count": null,
   "metadata": {},
   "outputs": [],
   "source": [
    "from PIL import Image"
   ]
  },
  {
   "cell_type": "code",
   "execution_count": null,
   "metadata": {},
   "outputs": [],
   "source": [
    "test_data_path = './data/oprah.jpeg'\n",
    "color = 'bgr'\n",
    "img = Image.open(test_data_path)\n",
    "img = np.array(img)\n",
    "img = pipeline_model(img)\n",
    "plt.imshow(img)"
   ]
  },
  {
   "cell_type": "markdown",
   "metadata": {},
   "source": [
    "# Apply pipepline to Video"
   ]
  },
  {
   "cell_type": "code",
   "execution_count": null,
   "metadata": {},
   "outputs": [],
   "source": [
    "cap = cv2.VideoCapture('./data/video.mp4')\n",
    "\n",
    "while True:\n",
    "    ret, frame = cap.read() # bgr\n",
    "    \n",
    "    if ret == False:\n",
    "        break\n",
    "    \n",
    "    frame = pipeline_model(frame,color='bgr')\n",
    "    \n",
    "    cv2.imshow('Gender Detector',frame)\n",
    "    if cv2.waitKey(10) == ord('s'): # press s to exit  --#esc key (27), \n",
    "        break\n",
    "        \n",
    "cv2.destroyAllWindows()\n",
    "cap.release()"
   ]
  }
 ],
 "metadata": {
  "kernelspec": {
   "display_name": "Python 3",
   "language": "python",
   "name": "python3"
  },
  "language_info": {
   "codemirror_mode": {
    "name": "ipython",
    "version": 3
   },
   "file_extension": ".py",
   "mimetype": "text/x-python",
   "name": "python",
   "nbconvert_exporter": "python",
   "pygments_lexer": "ipython3",
   "version": "3.8.3"
  }
 },
 "nbformat": 4,
 "nbformat_minor": 2
}
